{
 "cells": [
  {
   "cell_type": "code",
   "execution_count": 73,
   "metadata": {},
   "outputs": [],
   "source": [
    "import pandas as pd\n",
    "import numpy as np\n",
    "import matplotlib.pyplot as plt\n",
    "from sklearn.metrics import silhouette_score\n",
    "from sklearn.decomposition import PCA"
   ]
  },
  {
   "cell_type": "code",
   "execution_count": 60,
   "metadata": {},
   "outputs": [
    {
     "data": {
      "text/html": [
       "<div>\n",
       "<style scoped>\n",
       "    .dataframe tbody tr th:only-of-type {\n",
       "        vertical-align: middle;\n",
       "    }\n",
       "\n",
       "    .dataframe tbody tr th {\n",
       "        vertical-align: top;\n",
       "    }\n",
       "\n",
       "    .dataframe thead th {\n",
       "        text-align: right;\n",
       "    }\n",
       "</style>\n",
       "<table border=\"1\" class=\"dataframe\">\n",
       "  <thead>\n",
       "    <tr style=\"text-align: right;\">\n",
       "      <th></th>\n",
       "      <th>GDP</th>\n",
       "      <th>Exports</th>\n",
       "      <th>Imports</th>\n",
       "      <th>Industrial production growth rate</th>\n",
       "      <th>Investment</th>\n",
       "      <th>Unemployment rate</th>\n",
       "    </tr>\n",
       "  </thead>\n",
       "  <tbody>\n",
       "    <tr>\n",
       "      <th>0</th>\n",
       "      <td>3745000000000</td>\n",
       "      <td>538800000000</td>\n",
       "      <td>401800000000</td>\n",
       "      <td>6.6</td>\n",
       "      <td>24</td>\n",
       "      <td>4.7</td>\n",
       "    </tr>\n",
       "    <tr>\n",
       "      <th>1</th>\n",
       "      <td>2362000000000</td>\n",
       "      <td>893300000000</td>\n",
       "      <td>716700000000</td>\n",
       "      <td>2.2</td>\n",
       "      <td>17.6</td>\n",
       "      <td>10.6</td>\n",
       "    </tr>\n",
       "    <tr>\n",
       "      <th>2</th>\n",
       "      <td>310200000000</td>\n",
       "      <td>113000000000</td>\n",
       "      <td>36210000000</td>\n",
       "      <td>2.8</td>\n",
       "      <td>17.2</td>\n",
       "      <td>25</td>\n",
       "    </tr>\n",
       "    <tr>\n",
       "      <th>3</th>\n",
       "      <td>1408000000000</td>\n",
       "      <td>162500000000</td>\n",
       "      <td>92910000000</td>\n",
       "      <td>6.4</td>\n",
       "      <td>19.1</td>\n",
       "      <td>8.3</td>\n",
       "    </tr>\n",
       "    <tr>\n",
       "      <th>4</th>\n",
       "      <td>251900000000</td>\n",
       "      <td>130700000000</td>\n",
       "      <td>121100000000</td>\n",
       "      <td>4.7</td>\n",
       "      <td>20.4</td>\n",
       "      <td>3.4</td>\n",
       "    </tr>\n",
       "    <tr>\n",
       "      <th>...</th>\n",
       "      <td>...</td>\n",
       "      <td>...</td>\n",
       "      <td>...</td>\n",
       "      <td>...</td>\n",
       "      <td>...</td>\n",
       "      <td>...</td>\n",
       "    </tr>\n",
       "    <tr>\n",
       "      <th>144</th>\n",
       "      <td>1609000000000</td>\n",
       "      <td>336400000000</td>\n",
       "      <td>329300000000</td>\n",
       "      <td>0.7</td>\n",
       "      <td>19.3</td>\n",
       "      <td>8.6</td>\n",
       "    </tr>\n",
       "    <tr>\n",
       "      <th>145</th>\n",
       "      <td>937600000000</td>\n",
       "      <td>172500000000</td>\n",
       "      <td>222000000000</td>\n",
       "      <td>3</td>\n",
       "      <td>25.4</td>\n",
       "      <td>10.4</td>\n",
       "    </tr>\n",
       "    <tr>\n",
       "      <th>146</th>\n",
       "      <td>1782000000000</td>\n",
       "      <td>347200000000</td>\n",
       "      <td>439400000000</td>\n",
       "      <td>0.9</td>\n",
       "      <td>16.2</td>\n",
       "      <td>4.8</td>\n",
       "    </tr>\n",
       "    <tr>\n",
       "      <th>147</th>\n",
       "      <td>611700000000</td>\n",
       "      <td>86890000000</td>\n",
       "      <td>98100000000</td>\n",
       "      <td>1.9</td>\n",
       "      <td>25.3</td>\n",
       "      <td>5.1</td>\n",
       "    </tr>\n",
       "    <tr>\n",
       "      <th>148</th>\n",
       "      <td>11750000000000</td>\n",
       "      <td>795000000000</td>\n",
       "      <td>1476000000000</td>\n",
       "      <td>4.4</td>\n",
       "      <td>15.7</td>\n",
       "      <td>5.5</td>\n",
       "    </tr>\n",
       "  </tbody>\n",
       "</table>\n",
       "<p>149 rows × 6 columns</p>\n",
       "</div>"
      ],
      "text/plain": [
       "                GDP       Exports        Imports   \n",
       "0     3745000000000  538800000000   401800000000  \\\n",
       "1     2362000000000  893300000000   716700000000   \n",
       "2      310200000000  113000000000    36210000000   \n",
       "3     1408000000000  162500000000    92910000000   \n",
       "4      251900000000  130700000000   121100000000   \n",
       "..              ...           ...            ...   \n",
       "144   1609000000000  336400000000   329300000000   \n",
       "145    937600000000  172500000000   222000000000   \n",
       "146   1782000000000  347200000000   439400000000   \n",
       "147    611700000000   86890000000    98100000000   \n",
       "148  11750000000000  795000000000  1476000000000   \n",
       "\n",
       "    Industrial production growth rate Investment Unemployment rate  \n",
       "0                                 6.6         24               4.7  \n",
       "1                                 2.2       17.6              10.6  \n",
       "2                                 2.8       17.2                25  \n",
       "3                                 6.4       19.1               8.3  \n",
       "4                                 4.7       20.4               3.4  \n",
       "..                                ...        ...               ...  \n",
       "144                               0.7       19.3               8.6  \n",
       "145                                 3       25.4              10.4  \n",
       "146                               0.9       16.2               4.8  \n",
       "147                               1.9       25.3               5.1  \n",
       "148                               4.4       15.7               5.5  \n",
       "\n",
       "[149 rows x 6 columns]"
      ]
     },
     "execution_count": 60,
     "metadata": {},
     "output_type": "execute_result"
    }
   ],
   "source": [
    "df = pd.read_excel('coba1.xlsx')\n",
    "df"
   ]
  },
  {
   "cell_type": "code",
   "execution_count": 61,
   "metadata": {},
   "outputs": [
    {
     "name": "stdout",
     "output_type": "stream",
     "text": [
      "<class 'pandas.core.frame.DataFrame'>\n",
      "RangeIndex: 149 entries, 0 to 148\n",
      "Data columns (total 6 columns):\n",
      " #   Column                             Non-Null Count  Dtype \n",
      "---  ------                             --------------  ----- \n",
      " 0   GDP                                149 non-null    int64 \n",
      " 1   Exports                            149 non-null    int64 \n",
      " 2   Imports                            149 non-null    int64 \n",
      " 3   Industrial production growth rate  149 non-null    object\n",
      " 4   Investment                         149 non-null    object\n",
      " 5   Unemployment rate                  149 non-null    object\n",
      "dtypes: int64(3), object(3)\n",
      "memory usage: 7.1+ KB\n"
     ]
    }
   ],
   "source": [
    "df.info()"
   ]
  },
  {
   "cell_type": "code",
   "execution_count": 62,
   "metadata": {},
   "outputs": [],
   "source": [
    "# Menghapus string kosong dengan Nan pada atribut  'Industrial production growth rate', 'Investment', dan 'Unemployment rate'\n",
    "df['Industrial production growth rate'] = df['Industrial production growth rate'].replace(' ', np.nan)\n",
    "df['Investment'] = df['Investment'].replace(' ', np.nan)\n",
    "df['Unemployment rate'] = df['Unemployment rate'].replace(' ', np.nan)"
   ]
  },
  {
   "cell_type": "code",
   "execution_count": 63,
   "metadata": {},
   "outputs": [],
   "source": [
    "# Mengubah data types menjadi float\n",
    "df['Industrial production growth rate'] = df['Industrial production growth rate'].astype(float)\n",
    "df['Investment'] = df['Investment'].astype(float)\n",
    "df['Unemployment rate'] = df['Unemployment rate'].astype(float)"
   ]
  },
  {
   "cell_type": "code",
   "execution_count": 64,
   "metadata": {},
   "outputs": [],
   "source": [
    "# Menghapus baris yang memiliki Nan value pada atribut  'Industrial production growth rate', 'Investment', dan 'Unemployment rate'\n",
    "df.dropna(subset=['Industrial production growth rate'], inplace=True)\n",
    "df.dropna(subset=['Investment'], inplace=True)\n",
    "df.dropna(subset=['Unemployment rate'], inplace=True)"
   ]
  },
  {
   "cell_type": "code",
   "execution_count": 65,
   "metadata": {},
   "outputs": [
    {
     "name": "stdout",
     "output_type": "stream",
     "text": [
      "<class 'pandas.core.frame.DataFrame'>\n",
      "Index: 116 entries, 0 to 148\n",
      "Data columns (total 6 columns):\n",
      " #   Column                             Non-Null Count  Dtype  \n",
      "---  ------                             --------------  -----  \n",
      " 0   GDP                                116 non-null    int64  \n",
      " 1   Exports                            116 non-null    int64  \n",
      " 2   Imports                            116 non-null    int64  \n",
      " 3   Industrial production growth rate  116 non-null    float64\n",
      " 4   Investment                         116 non-null    float64\n",
      " 5   Unemployment rate                  116 non-null    float64\n",
      "dtypes: float64(3), int64(3)\n",
      "memory usage: 6.3 KB\n"
     ]
    }
   ],
   "source": [
    "df.info()"
   ]
  },
  {
   "cell_type": "code",
   "execution_count": 66,
   "metadata": {},
   "outputs": [],
   "source": [
    "# Memilih atribut yang digunakan\n",
    "data = df[['Exports', 'Imports', 'Industrial production growth rate', 'Investment', 'Unemployment rate']]\n",
    "\n",
    "# Normalisasi data\n",
    "data = (data - data.min()) / (data.max() - data.min())"
   ]
  },
  {
   "cell_type": "code",
   "execution_count": 67,
   "metadata": {},
   "outputs": [],
   "source": [
    "class KMeans:\n",
    "    def __init__(self, k=3, tol=0.001, max_iter=300):\n",
    "        self.k = k\n",
    "        self.tol = tol\n",
    "        self.max_iter = max_iter\n",
    "\n",
    "    def fit(self, data):\n",
    "        #Membuat sebuah dictionary kosong yang akan digunakan untuk menyimpan posisi centroid kluster\n",
    "        self.centroids = {}\n",
    "\n",
    "        # inisialisasi centroid\n",
    "        for i in range(self.k):\n",
    "            self.centroids[i] = data[i]\n",
    "\n",
    "        # melakukan iterasi sampai konvergensi \n",
    "        for i in range(self.max_iter):\n",
    "            #Membuat dictionary kosong untuk menyimpan anggota kluster pada setiap iterasi\n",
    "            self.classifications = {}\n",
    "\n",
    "            # inisialisasi sebagai list kosong\n",
    "            for i in range(self.k):\n",
    "                self.classifications[i] = []\n",
    "\n",
    "            for features in data:\n",
    "                #perhitungan jarak \n",
    "                distances = [np.linalg.norm(features - self.centroids[centroid]) for centroid in self.centroids]\n",
    "                #update cluster\n",
    "                classification = distances.index(min(distances))\n",
    "                self.classifications[classification].append(features)\n",
    "\n",
    "            #copy nilai dari self.centroids buat dibandingin sama langkah selanjutnya\n",
    "            prev_centroids = dict(self.centroids)\n",
    "\n",
    "            #update centroid\n",
    "            for classification in self.classifications:\n",
    "                self.centroids[classification] = np.average(self.classifications[classification], axis=0)\n",
    "\n",
    "            #pengecekan konvergensi\n",
    "            optimized = True\n",
    "\n",
    "            for c in self.centroids:\n",
    "                original_centroid = prev_centroids[c]\n",
    "                current_centroid = self.centroids[c]\n",
    "                if np.sum((current_centroid - original_centroid) / original_centroid * 100.0) > self.tol:\n",
    "                    optimized = False\n",
    "\n",
    "            if optimized:\n",
    "                break\n",
    "\n",
    "        # Menyimpan label kluster untuk setiap titik data\n",
    "        self.labels_ = []\n",
    "        for features in data:\n",
    "            distances = [np.linalg.norm(features - self.centroids[centroid]) for centroid in self.centroids]\n",
    "            classification = distances.index(min(distances))\n",
    "            self.labels_.append(classification)"
   ]
  },
  {
   "cell_type": "code",
   "execution_count": 79,
   "metadata": {},
   "outputs": [
    {
     "name": "stdout",
     "output_type": "stream",
     "text": [
      "Cluster 1: 12 data points\n",
      "Cluster 2: 2 data points\n",
      "Cluster 3: 102 data points\n",
      "Silhouette Score: 0.337266375467534\n"
     ]
    },
    {
     "data": {
      "image/png": "[encoded data removed]",
      "text/plain": [
       "<Figure size 800x800 with 1 Axes>"
      ]
     },
     "metadata": {},
     "output_type": "display_data"
    }
   ],
   "source": [
    "# Menentukan jumlah kluster\n",
    "k = 3\n",
    "clf = KMeans(k)\n",
    "clf.fit(data.values)\n",
    "\n",
    "# Mengambil hasil label kluster\n",
    "labels = clf.labels_\n",
    "\n",
    "# Menghitung jumlah titik data dalam setiap kluster\n",
    "cluster_counts = np.bincount(labels)\n",
    "\n",
    "# Menampilkan jumlah titik data dalam setiap kluster\n",
    "for i in range(k):\n",
    "    print(f\"Cluster {i+1}: {cluster_counts[i]} data points\")\n",
    "\n",
    "# Menghitung skor Silhouette\n",
    "print(\"Silhouette Score:\", silhouette_score(data, labels))\n",
    "\n",
    "# Membuat plot\n",
    "fig = plt.figure(figsize=(8, 8))\n",
    "ax = fig.add_subplot(1, 1, 1)\n",
    "ax.set_xlabel('Exports', fontsize=15)\n",
    "ax.set_ylabel('Imports', fontsize=15)\n",
    "ax.set_title('Clustering of Exports and Imports', fontsize=20)\n",
    "\n",
    "colors = ['r', 'g', 'b', 'c', 'm', 'y', 'k']\n",
    "\n",
    "for i in range(k):\n",
    "    indicesToKeep = [j for j, label in enumerate(clf.labels_) if label == i]\n",
    "    ax.scatter(data.iloc[indicesToKeep, 0], data.iloc[indicesToKeep, 1], c=colors[i], label=f'Cluster {i+1}', s=50)\n",
    "\n",
    "ax.legend()\n",
    "plt.show()"
   ]
  },
  {
   "cell_type": "code",
   "execution_count": 80,
   "metadata": {},
   "outputs": [
    {
     "name": "stdout",
     "output_type": "stream",
     "text": [
      "Cluster 1: 10 data points\n",
      "Cluster 2: 2 data points\n",
      "Cluster 3: 21 data points\n",
      "Cluster 4: 83 data points\n",
      "Silhouette Score: 0.3888610580272102\n"
     ]
    },
    {
     "data": {
      "image/png": "[encoded data removed]",
      "text/plain": [
       "<Figure size 800x800 with 1 Axes>"
      ]
     },
     "metadata": {},
     "output_type": "display_data"
    }
   ],
   "source": [
    "# Menentukan jumlah kluster\n",
    "k = 4\n",
    "clf = KMeans(k)\n",
    "clf.fit(data.values)\n",
    "\n",
    "# Mengambil hasil label kluster\n",
    "labels = clf.labels_\n",
    "\n",
    "# Menghitung jumlah titik data dalam setiap kluster\n",
    "cluster_counts = np.bincount(labels)\n",
    "\n",
    "# Menampilkan jumlah titik data dalam setiap kluster\n",
    "for i in range(k):\n",
    "    print(f\"Cluster {i+1}: {cluster_counts[i]} data points\")\n",
    "\n",
    "# Menghitung skor Silhouette\n",
    "print(\"Silhouette Score:\", silhouette_score(data, labels))\n",
    "\n",
    "# Membuat plot dengan PCA\n",
    "pca = PCA(n_components=2)\n",
    "principalComponents = pca.fit_transform(data)\n",
    "principalDf = pd.DataFrame(data=principalComponents, columns=['PC1', 'PC2'])\n",
    "\n",
    "fig = plt.figure(figsize=(8, 8))\n",
    "ax = fig.add_subplot(1, 1, 1)\n",
    "ax.set_xlabel('PC1', fontsize=15)\n",
    "ax.set_ylabel('PC2', fontsize=15)\n",
    "ax.set_title('2 Component PCA', fontsize=20)\n",
    "\n",
    "colors = ['r', 'g', 'b', 'c', 'm', 'y', 'k']\n",
    "\n",
    "for i in range(k):\n",
    "    indicesToKeep = [j for j, label in enumerate(clf.labels_) if label == i]\n",
    "    ax.scatter(principalDf.loc[indicesToKeep, 'PC1'], principalDf.loc[indicesToKeep, 'PC2'], c=colors[i], label=f'Cluster {i+1}', s=50)\n",
    "\n",
    "ax.legend()\n",
    "plt.show()"
   ]
  }
 ],
 "metadata": {
  "kernelspec": {
   "display_name": "Python 3",
   "language": "python",
   "name": "python3"
  },
  "language_info": {
   "codemirror_mode": {
    "name": "ipython",
    "version": 3
   },
   "file_extension": ".py",
   "mimetype": "text/x-python",
   "name": "python",
   "nbconvert_exporter": "python",
   "pygments_lexer": "ipython3",
   "version": "3.11.3"
  },
  "orig_nbformat": 4
 },
 "nbformat": 4,
 "nbformat_minor": 2
}
