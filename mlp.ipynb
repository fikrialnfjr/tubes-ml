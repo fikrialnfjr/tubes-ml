{
 "cells": [
  {
   "cell_type": "code",
   "execution_count": 90,
   "metadata": {},
   "outputs": [],
   "source": [
    "import pandas as pd\n",
    "from sklearn.model_selection import KFold\n",
    "from sklearn.neural_network import MLPRegressor\n",
    "from sklearn.preprocessing import MinMaxScaler\n",
    "from sklearn.metrics import mean_squared_error, mean_absolute_error\n",
    "import numpy as np\n",
    "import warnings\n"
   ]
  },
  {
   "cell_type": "code",
   "execution_count": 91,
   "metadata": {},
   "outputs": [
    {
     "data": {
      "text/html": [
       "<div>\n",
       "<style scoped>\n",
       "    .dataframe tbody tr th:only-of-type {\n",
       "        vertical-align: middle;\n",
       "    }\n",
       "\n",
       "    .dataframe tbody tr th {\n",
       "        vertical-align: top;\n",
       "    }\n",
       "\n",
       "    .dataframe thead th {\n",
       "        text-align: right;\n",
       "    }\n",
       "</style>\n",
       "<table border=\"1\" class=\"dataframe\">\n",
       "  <thead>\n",
       "    <tr style=\"text-align: right;\">\n",
       "      <th></th>\n",
       "      <th>GDP</th>\n",
       "      <th>Exports</th>\n",
       "      <th>Imports</th>\n",
       "      <th>Industrial production growth rate</th>\n",
       "      <th>Investment</th>\n",
       "      <th>Unemployment rate</th>\n",
       "    </tr>\n",
       "  </thead>\n",
       "  <tbody>\n",
       "    <tr>\n",
       "      <th>0</th>\n",
       "      <td>3745000000000</td>\n",
       "      <td>538800000000</td>\n",
       "      <td>401800000000</td>\n",
       "      <td>6.6</td>\n",
       "      <td>24</td>\n",
       "      <td>4.7</td>\n",
       "    </tr>\n",
       "    <tr>\n",
       "      <th>1</th>\n",
       "      <td>2362000000000</td>\n",
       "      <td>893300000000</td>\n",
       "      <td>716700000000</td>\n",
       "      <td>2.2</td>\n",
       "      <td>17.6</td>\n",
       "      <td>10.6</td>\n",
       "    </tr>\n",
       "    <tr>\n",
       "      <th>2</th>\n",
       "      <td>310200000000</td>\n",
       "      <td>113000000000</td>\n",
       "      <td>36210000000</td>\n",
       "      <td>2.8</td>\n",
       "      <td>17.2</td>\n",
       "      <td>25</td>\n",
       "    </tr>\n",
       "    <tr>\n",
       "      <th>3</th>\n",
       "      <td>1408000000000</td>\n",
       "      <td>162500000000</td>\n",
       "      <td>92910000000</td>\n",
       "      <td>6.4</td>\n",
       "      <td>19.1</td>\n",
       "      <td>8.3</td>\n",
       "    </tr>\n",
       "    <tr>\n",
       "      <th>4</th>\n",
       "      <td>251900000000</td>\n",
       "      <td>130700000000</td>\n",
       "      <td>121100000000</td>\n",
       "      <td>4.7</td>\n",
       "      <td>20.4</td>\n",
       "      <td>3.4</td>\n",
       "    </tr>\n",
       "    <tr>\n",
       "      <th>...</th>\n",
       "      <td>...</td>\n",
       "      <td>...</td>\n",
       "      <td>...</td>\n",
       "      <td>...</td>\n",
       "      <td>...</td>\n",
       "      <td>...</td>\n",
       "    </tr>\n",
       "    <tr>\n",
       "      <th>144</th>\n",
       "      <td>1609000000000</td>\n",
       "      <td>336400000000</td>\n",
       "      <td>329300000000</td>\n",
       "      <td>0.7</td>\n",
       "      <td>19.3</td>\n",
       "      <td>8.6</td>\n",
       "    </tr>\n",
       "    <tr>\n",
       "      <th>145</th>\n",
       "      <td>937600000000</td>\n",
       "      <td>172500000000</td>\n",
       "      <td>222000000000</td>\n",
       "      <td>3</td>\n",
       "      <td>25.4</td>\n",
       "      <td>10.4</td>\n",
       "    </tr>\n",
       "    <tr>\n",
       "      <th>146</th>\n",
       "      <td>1782000000000</td>\n",
       "      <td>347200000000</td>\n",
       "      <td>439400000000</td>\n",
       "      <td>0.9</td>\n",
       "      <td>16.2</td>\n",
       "      <td>4.8</td>\n",
       "    </tr>\n",
       "    <tr>\n",
       "      <th>147</th>\n",
       "      <td>611700000000</td>\n",
       "      <td>86890000000</td>\n",
       "      <td>98100000000</td>\n",
       "      <td>1.9</td>\n",
       "      <td>25.3</td>\n",
       "      <td>5.1</td>\n",
       "    </tr>\n",
       "    <tr>\n",
       "      <th>148</th>\n",
       "      <td>11750000000000</td>\n",
       "      <td>795000000000</td>\n",
       "      <td>1476000000000</td>\n",
       "      <td>4.4</td>\n",
       "      <td>15.7</td>\n",
       "      <td>5.5</td>\n",
       "    </tr>\n",
       "  </tbody>\n",
       "</table>\n",
       "<p>149 rows × 6 columns</p>\n",
       "</div>"
      ],
      "text/plain": [
       "                GDP       Exports        Imports   \n",
       "0     3745000000000  538800000000   401800000000  \\\n",
       "1     2362000000000  893300000000   716700000000   \n",
       "2      310200000000  113000000000    36210000000   \n",
       "3     1408000000000  162500000000    92910000000   \n",
       "4      251900000000  130700000000   121100000000   \n",
       "..              ...           ...            ...   \n",
       "144   1609000000000  336400000000   329300000000   \n",
       "145    937600000000  172500000000   222000000000   \n",
       "146   1782000000000  347200000000   439400000000   \n",
       "147    611700000000   86890000000    98100000000   \n",
       "148  11750000000000  795000000000  1476000000000   \n",
       "\n",
       "    Industrial production growth rate Investment Unemployment rate  \n",
       "0                                 6.6         24               4.7  \n",
       "1                                 2.2       17.6              10.6  \n",
       "2                                 2.8       17.2                25  \n",
       "3                                 6.4       19.1               8.3  \n",
       "4                                 4.7       20.4               3.4  \n",
       "..                                ...        ...               ...  \n",
       "144                               0.7       19.3               8.6  \n",
       "145                                 3       25.4              10.4  \n",
       "146                               0.9       16.2               4.8  \n",
       "147                               1.9       25.3               5.1  \n",
       "148                               4.4       15.7               5.5  \n",
       "\n",
       "[149 rows x 6 columns]"
      ]
     },
     "execution_count": 91,
     "metadata": {},
     "output_type": "execute_result"
    }
   ],
   "source": [
    "df = pd.read_excel('coba1.xlsx')\n",
    "df"
   ]
  },
  {
   "cell_type": "code",
   "execution_count": 92,
   "metadata": {},
   "outputs": [
    {
     "name": "stdout",
     "output_type": "stream",
     "text": [
      "<class 'pandas.core.frame.DataFrame'>\n",
      "RangeIndex: 149 entries, 0 to 148\n",
      "Data columns (total 6 columns):\n",
      " #   Column                             Non-Null Count  Dtype \n",
      "---  ------                             --------------  ----- \n",
      " 0   GDP                                149 non-null    int64 \n",
      " 1   Exports                            149 non-null    int64 \n",
      " 2   Imports                            149 non-null    int64 \n",
      " 3   Industrial production growth rate  149 non-null    object\n",
      " 4   Investment                         149 non-null    object\n",
      " 5   Unemployment rate                  149 non-null    object\n",
      "dtypes: int64(3), object(3)\n",
      "memory usage: 7.1+ KB\n"
     ]
    }
   ],
   "source": [
    "df.info()"
   ]
  },
  {
   "cell_type": "code",
   "execution_count": 93,
   "metadata": {},
   "outputs": [
    {
     "name": "stdout",
     "output_type": "stream",
     "text": [
      "nilai unik Industrial production growth rate : \n",
      "[6.6 2.2 2.8 6.4 4.7 5.2 17.1 2 10.1 5.5 12.2 0.8 1 12.3 -5 6 10.2 3.5 ' '\n",
      " 11.1 10.5 8.5 1.7 4 12 1.8 10 7.4 16.5 5 -1.2 7.8 2.5 7.2 13.1 7 6.2 3\n",
      " 4.4 8 5.7 0 7.7 6.5 4.5 1.6 22 3.8 10.6 3.9 8.2 1.4 18 9.7 3.7 3.4 15.5\n",
      " 4.6 7.1 17 4.2 8.3 6.9 -7.8 15 3.2 8.4 2.6 6.7 5.4 14 3.1 8.8 30 5.6 -0.3\n",
      " -2 0.7 4.1 5.1 2.7 16 3.3 5.9 9.6 1.1 0.9 1.9]\n",
      "\n",
      "nilai unik Investment : \n",
      "[24 17.6 17.2 19.1 20.4 17.5 46 19.4 28.7 15.8 18 19.9 22.7 12.9 8 26.2\n",
      " 21.7 18.3 9.9 27.4 19.8 16.6 22.5 20.8 22.9 23.8 18.8 17 13.5 23.9 31.3\n",
      " 16.4 16.3 22.4 18.9 18.6 12.8 ' ' 16.1 25.5 24.7 10.4 25.8 20.6 24.1 19.6\n",
      " 23.5 11.6 21.8 9.6 29 19.7 24.5 13.6 25.3 17.8 31.5 18.1 34.5 24.9 22\n",
      " 10.7 23.6 19.2 39.5 47 39.6 33.6 26.3 17.1 19.3 41.4 10.2 11.2 20 26.4\n",
      " 14.7 21 20.9 16.2 11.3 25 29.1 18.4 20.1 50.8 17.9 18.5 16 32 28 28.2\n",
      " 26.1 14.9 21.9 28.6 36.6 26 16.7 65.1 14.4 22.6 23.3 22.8 27 22.3 17.3\n",
      " 25.4 15.7]\n",
      "\n",
      "nilai unik Unemployment rate : \n",
      "[4.7 10.6 25 8.3 3.4 4.3 9.8 7 3.6 5.6 4.5 6 6.7 17.1 2.2 25.4 3 12 8.9 30\n",
      " 11.5 9.2 1.5 6.2 2.4 14.8 ' ' 2.7 3.5 11.7 15 8.5 10.9 11.2 10.4 20 12.1\n",
      " 17 12.7 0.6 35 23.8 10.8 11.1 28.5 40 10.7 21 13 60 13.8 9.6 15.1 8 6.4\n",
      " 5.7 34 18 45 12.9 50 5.2 2.5 70 10.1 37.7 12.6 48 3.1 7.8 3.2 18.7 6.3\n",
      " 6.6 2 8.8 7.5 13.1 13.6 1.9 44 26.2 1.2 4.4 4.2 19.5 5.9 10 6.5 9.3 8.6\n",
      " 4.8 5.1 5.5]\n"
     ]
    }
   ],
   "source": [
    "print('nilai unik Industrial production growth rate : ')\n",
    "print(df['Industrial production growth rate'].unique())\n",
    "\n",
    "print('\\nnilai unik Investment : ')\n",
    "print(df['Investment'].unique())\n",
    "\n",
    "print('\\nnilai unik Unemployment rate : ')\n",
    "print(df['Unemployment rate'].unique())"
   ]
  },
  {
   "cell_type": "code",
   "execution_count": 94,
   "metadata": {},
   "outputs": [],
   "source": [
    "# Menghapus string kosong dengan Nan pada atribut  'Industrial production growth rate', 'Investment', dan 'Unemployment rate'\n",
    "df['Industrial production growth rate'] = df['Industrial production growth rate'].replace(' ', np.nan)\n",
    "df['Investment'] = df['Investment'].replace(' ', np.nan)\n",
    "df['Unemployment rate'] = df['Unemployment rate'].replace(' ', np.nan)"
   ]
  },
  {
   "cell_type": "code",
   "execution_count": 95,
   "metadata": {},
   "outputs": [],
   "source": [
    "# Menghapus baris yang memiliki Nan value pada atribut  'Industrial production growth rate', 'Investment', dan 'Unemployment rate'\n",
    "df.dropna(subset=['Industrial production growth rate'], inplace=True)\n",
    "df.dropna(subset=['Investment'], inplace=True)\n",
    "df.dropna(subset=['Unemployment rate'], inplace=True)"
   ]
  },
  {
   "cell_type": "code",
   "execution_count": 96,
   "metadata": {},
   "outputs": [],
   "source": [
    "# Mengubah data types menjadi float\n",
    "df['Industrial production growth rate'] = df['Industrial production growth rate'].astype(float)\n",
    "df['Investment'] = df['Investment'].astype(float)\n",
    "df['Unemployment rate'] = df['Unemployment rate'].astype(float)\n"
   ]
  },
  {
   "cell_type": "code",
   "execution_count": 97,
   "metadata": {},
   "outputs": [],
   "source": [
    "# Memilih atribut yang akan digunakan\n",
    "selected_features = ['Exports', 'Imports', 'Industrial production growth rate', 'Investment', 'Unemployment rate', 'GDP']\n",
    "\n",
    "# Mengambil subset dataset dengan atribut yang dipilih\n",
    "df = df[selected_features]\n",
    "\n",
    "# Normalisasi data\n",
    "scaler_X = MinMaxScaler()\n",
    "scaler_y = MinMaxScaler()\n",
    "df[selected_features[:-1]] = scaler_X.fit_transform(df[selected_features[:-1]])\n",
    "df['GDP'] = scaler_y.fit_transform(df[['GDP']])\n",
    "\n",
    "# Pisahkan atribut dan target\n",
    "X = df[selected_features[:-1]]\n",
    "y = df['GDP']"
   ]
  },
  {
   "cell_type": "code",
   "execution_count": 130,
   "metadata": {},
   "outputs": [],
   "source": [
    "# Inisialisasi model MLP\n",
    "model = MLPRegressor(hidden_layer_sizes=(200, 100, 50), activation='tanh', solver='lbfgs', max_iter=2000, random_state=42)\n",
    "\n",
    "# Inisialisasi evaluasi model\n",
    "mse_scores = []\n",
    "mae_scores = []\n",
    "rmse_scores = []\n",
    "\n",
    "# K-Fold Cross Validation\n",
    "k = 5  # Jumlah fold\n",
    "kf = KFold(n_splits=k, shuffle=True, random_state=42)\n",
    "\n",
    "fold = 1\n",
    "for train_index, test_index in kf.split(X):\n",
    "    X_train, X_test = X.iloc[train_index], X.iloc[test_index]\n",
    "    y_train, y_test = y.iloc[train_index], y.iloc[test_index]\n",
    "    \n",
    "    # Latih model dengan data latih\n",
    "    model.fit(X_train, y_train)\n",
    "\n",
    "    # Prediksi nilai GDP menggunakan data uji\n",
    "    y_pred = model.predict(X_test)\n",
    "\n",
    "    # Evaluasi model\n",
    "    mse = mean_squared_error(y_test, y_pred)\n",
    "    mae = mean_absolute_error(y_test, y_pred)\n",
    "    rmse = np.sqrt(mse)\n",
    "    \n",
    "    mse_scores.append(mse)\n",
    "    mae_scores.append(mae)\n",
    "    rmse_scores.append(rmse)\n",
    "\n",
    "    fold += 1"
   ]
  },
  {
   "cell_type": "code",
   "execution_count": 138,
   "metadata": {},
   "outputs": [
    {
     "name": "stdout",
     "output_type": "stream",
     "text": [
      "Scaled Mean Squared Error (MSE): 0.42\n",
      "Scaled Mean Absolute Error (MAE): 0.49\n",
      "Scaled Root Mean Squared Error (RMSE): 0.65\n"
     ]
    }
   ],
   "source": [
    "# Normalisasi hasil evaluasi\n",
    "mse_scaled = (np.mean(mse_scores) - np.min(mse_scores)) / (np.max(mse_scores) - np.min(mse_scores))\n",
    "mae_scaled = (np.mean(mae_scores) - np.min(mae_scores)) / (np.max(mae_scores) - np.min(mae_scores))\n",
    "rmse_scaled = np.sqrt(mse_scaled)\n",
    "\n",
    "print(f\"Scaled Mean Squared Error (MSE): {mse_scaled:.2f}\")\n",
    "print(f\"Scaled Mean Absolute Error (MAE): {mae_scaled:.2f}\")\n",
    "print(f\"Scaled Root Mean Squared Error (RMSE): {rmse_scaled:.2f}\")"
   ]
  },
  {
   "cell_type": "code",
   "execution_count": 131,
   "metadata": {},
   "outputs": [
    {
     "name": "stdout",
     "output_type": "stream",
     "text": [
      "Rata-rata Prediksi GDP: 3004734981228.00\n"
     ]
    },
    {
     "name": "stderr",
     "output_type": "stream",
     "text": [
      "/Library/Frameworks/Python.framework/Versions/3.11/lib/python3.11/site-packages/sklearn/base.py:439: UserWarning: X does not have valid feature names, but MinMaxScaler was fitted with feature names\n",
      "  warnings.warn(\n",
      "/Library/Frameworks/Python.framework/Versions/3.11/lib/python3.11/site-packages/sklearn/base.py:439: UserWarning: X does not have valid feature names, but MLPRegressor was fitted with feature names\n",
      "  warnings.warn(\n",
      "/Library/Frameworks/Python.framework/Versions/3.11/lib/python3.11/site-packages/sklearn/base.py:439: UserWarning: X does not have valid feature names, but MLPRegressor was fitted with feature names\n",
      "  warnings.warn(\n",
      "/Library/Frameworks/Python.framework/Versions/3.11/lib/python3.11/site-packages/sklearn/base.py:439: UserWarning: X does not have valid feature names, but MLPRegressor was fitted with feature names\n",
      "  warnings.warn(\n",
      "/Library/Frameworks/Python.framework/Versions/3.11/lib/python3.11/site-packages/sklearn/base.py:439: UserWarning: X does not have valid feature names, but MLPRegressor was fitted with feature names\n",
      "  warnings.warn(\n",
      "/Library/Frameworks/Python.framework/Versions/3.11/lib/python3.11/site-packages/sklearn/base.py:439: UserWarning: X does not have valid feature names, but MLPRegressor was fitted with feature names\n",
      "  warnings.warn(\n"
     ]
    }
   ],
   "source": [
    "# Menerima input dari pengguna\n",
    "user_input = []\n",
    "for feature in selected_features[:-1]:\n",
    "    value = float(input(f\"Masukkan nilai {feature}: \"))\n",
    "    user_input.append(value)\n",
    "\n",
    "# Lakukan normalisasi pada input pengguna\n",
    "normalized_input = scaler_X.transform([user_input])\n",
    "\n",
    "# Prediksi nilai GDP berdasarkan input pengguna\n",
    "predicted_GDPs = []\n",
    "for _ in range(k):  # Lakukan prediksi pada setiap fold\n",
    "    predicted_GDP = model.predict(normalized_input)\n",
    "    predicted_GDPs.append(predicted_GDP)\n",
    "\n",
    "# Mengubah bentuk array menjadi 2D\n",
    "predicted_GDPs = np.array(predicted_GDPs).reshape(-1, 1)\n",
    "\n",
    "# Hitung rata-rata prediksi GDP\n",
    "mean_predicted_GDP = scaler_y.inverse_transform(predicted_GDPs)\n",
    "\n",
    "print(f\"Rata-rata Prediksi GDP: {np.mean(mean_predicted_GDP):.2f}\")"
   ]
  }
 ],
 "metadata": {
  "kernelspec": {
   "display_name": "Python 3",
   "language": "python",
   "name": "python3"
  },
  "language_info": {
   "codemirror_mode": {
    "name": "ipython",
    "version": 3
   },
   "file_extension": ".py",
   "mimetype": "text/x-python",
   "name": "python",
   "nbconvert_exporter": "python",
   "pygments_lexer": "ipython3",
   "version": "3.11.3"
  },
  "orig_nbformat": 4
 },
 "nbformat": 4,
 "nbformat_minor": 2
}
